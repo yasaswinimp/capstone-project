{
    "cells": [
        {
            "cell_type": "markdown",
            "metadata": {
                "collapsed": true
            },
            "source": "# Introduction and Business Problem"
        },
        {
            "cell_type": "markdown",
            "metadata": {},
            "source": "**Introduction**"
        },
        {
            "cell_type": "markdown",
            "metadata": {},
            "source": "* The city of Hoboken,NJ is relatively small but it is packed with restaurants night life and amazing people that are new to Hoboken,despite its small geographic size,it can be difficult to figure out what restaurants are worth going to and where they are.For people that usedto live in Hoboken or visiting Hoboken,how do you know what the best places are to get something to eat? "
        },
        {
            "cell_type": "markdown",
            "metadata": {},
            "source": "**Business Problem**"
        },
        {
            "cell_type": "markdown",
            "metadata": {},
            "source": "* I am going to create a sample guide that contains best place to eat based on foursquare likes,restaurant category and geographic location data for restaurants in Hoboken.And then cluster these restaurants based on their similarities so that a user can easily determine what type of restaurants are best to eat based on Foursquare user feedback"
        },
        {
            "cell_type": "markdown",
            "metadata": {},
            "source": "# Data Required"
        },
        {
            "cell_type": "markdown",
            "metadata": {},
            "source": "For this assignment, I will be utilizing the Foursquare API to pull the following location data on restaurants in Hoboken,NewJersy:\n   * venue name\n   * venue Id\n   * venue Location\n   * venue category\n   * count of Likes"
        },
        {
            "cell_type": "code",
            "execution_count": null,
            "metadata": {},
            "outputs": [],
            "source": ""
        }
    ],
    "metadata": {
        "kernelspec": {
            "display_name": "Python 3.6",
            "language": "python",
            "name": "python3"
        },
        "language_info": {
            "codemirror_mode": {
                "name": "ipython",
                "version": 3
            },
            "file_extension": ".py",
            "mimetype": "text/x-python",
            "name": "python",
            "nbconvert_exporter": "python",
            "pygments_lexer": "ipython3",
            "version": "3.6.8"
        }
    },
    "nbformat": 4,
    "nbformat_minor": 1
}